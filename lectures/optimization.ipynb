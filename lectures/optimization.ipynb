{
 "cells": [
  {
   "cell_type": "markdown",
   "id": "75edf47e",
   "metadata": {},
   "source": [
    "# Gradient Methods\n",
    "\n",
    "## Convergence Analysis\n",
    "\n",
    "$x \\leftarrow x - \\eta*\\sum_{i}g_i$\n",
    "\n",
    "## Momentum\n",
    "\n",
    "### Nesterov Acceleration"
   ]
  },
  {
   "cell_type": "code",
   "execution_count": null,
   "id": "1316f230",
   "metadata": {
    "vscode": {
     "languageId": "plaintext"
    }
   },
   "outputs": [],
   "source": [
    "import numpy as np\n",
    "import matplotlib.pyplot as plt\n",
    "\n",
    "f = lambda x: x**2\n",
    "x = np.linspace(-3, 3, 100)\n",
    "plt.plot(x, f(x))\n",
    "plt.title(\"$f(x) = x^2$\")\n",
    "plt.grid(True)\n",
    "plt.show()"
   ]
  },
  {
   "cell_type": "markdown",
   "id": "c79d873e",
   "metadata": {},
   "source": [
    "## covergence analysis\n",
    "\n",
    "How to show it converges?"
   ]
  }
 ],
 "metadata": {
  "language_info": {
   "name": "python"
  }
 },
 "nbformat": 4,
 "nbformat_minor": 5
}
